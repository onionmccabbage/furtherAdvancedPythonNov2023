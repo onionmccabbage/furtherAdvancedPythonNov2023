{
 "cells": [
  {
   "cell_type": "markdown",
   "id": "09b18695",
   "metadata": {},
   "source": [
    "### Introduction to Pandas"
   ]
  },
  {
   "cell_type": "code",
   "execution_count": 1,
   "id": "ccd10a05",
   "metadata": {},
   "outputs": [],
   "source": [
    "# by convention we import everything needed at the top\n",
    "import numpy as np\n",
    "import pandas as pd"
   ]
  },
  {
   "cell_type": "code",
   "execution_count": 11,
   "id": "37c72b9e",
   "metadata": {},
   "outputs": [
    {
     "data": {
      "text/plain": [
       "0     8.0\n",
       "1     7.0\n",
       "2    -5.0\n",
       "3     3.0\n",
       "4    99.0\n",
       "dtype: float64"
      ]
     },
     "execution_count": 11,
     "metadata": {},
     "output_type": "execute_result"
    }
   ],
   "source": [
    "# pandas has a series type (mutable collection of same data type)\n",
    "l = [8.0, 7, -5, 3, 99]\n",
    "o = pd.Series(l)\n",
    "o.dtype\n",
    "o.values # a numpy array\n",
    "o.index # a range object\n",
    "o # always has an index"
   ]
  },
  {
   "cell_type": "code",
   "execution_count": 48,
   "id": "f1a6c965",
   "metadata": {},
   "outputs": [
    {
     "data": {
      "text/plain": [
       "d    4\n",
       "d    3\n",
       "dtype: int64"
      ]
     },
     "execution_count": 48,
     "metadata": {},
     "output_type": "execute_result"
    }
   ],
   "source": [
    "# Building Series\n",
    "vals = [4, 7, -5, 3] # just a list\n",
    "ind  = ['d', 'b', 'a', 'd'] # another list\n",
    "# s = pd.Series(vals, ind)\n",
    "s = pd.Series(vals, index=ind) # more conventional\n",
    "s # in addition to the default ordinality we also have our own index\n",
    "# s['d':'d'] # slicing CANNOT handle repeated index names\n",
    "s['d'] # returns ALL matches"
   ]
  },
  {
   "cell_type": "code",
   "execution_count": 65,
   "id": "d3bba5dc",
   "metadata": {},
   "outputs": [
    {
     "data": {
      "text/plain": [
       "c    4\n",
       "b    7\n",
       "a   -5\n",
       "d    3\n",
       "dtype: int64"
      ]
     },
     "execution_count": 65,
     "metadata": {},
     "output_type": "execute_result"
    }
   ],
   "source": [
    "ind  = {'d', 'b', 'a', 'c'} # set ensures unique index names\n",
    "s = pd.Series(vals, index=ind) # more conventional\n",
    "s # in addition to the default ordinality we also have our own index\n",
    "s['d']\n",
    "s\n",
    "# ind['b'] # do not expect the members of a set to be ordinal - they remain positional"
   ]
  },
  {
   "cell_type": "code",
   "execution_count": 52,
   "id": "e9829dc8",
   "metadata": {},
   "outputs": [
    {
     "data": {
      "text/plain": [
       "c     4.00\n",
       "b     7.00\n",
       "a    -5.00\n",
       "d    99.99\n",
       "dtype: float64"
      ]
     },
     "execution_count": 52,
     "metadata": {},
     "output_type": "execute_result"
    }
   ],
   "source": [
    "s['d']=99.99 # we can mutate the member at index position 'd'\n",
    "s[0] # the zeroth member\n",
    "s # careful - auto dtype changing might be deprecated"
   ]
  },
  {
   "cell_type": "code",
   "execution_count": 53,
   "id": "3756acf5",
   "metadata": {},
   "outputs": [
    {
     "data": {
      "text/plain": [
       "c     4.000000\n",
       "b     7.000000\n",
       "a    -5.000000\n",
       "d    99.990000\n",
       "e     0.000001\n",
       "dtype: float64"
      ]
     },
     "execution_count": 53,
     "metadata": {},
     "output_type": "execute_result"
    }
   ],
   "source": [
    "# we can add additional members to the Series\n",
    "s['e']=0.000001\n",
    "s[4]\n",
    "s"
   ]
  },
  {
   "cell_type": "markdown",
   "id": "c3bb678d",
   "metadata": {},
   "source": [
    "#### Slicing Series"
   ]
  },
  {
   "cell_type": "code",
   "execution_count": 54,
   "id": "72ed67a9",
   "metadata": {},
   "outputs": [
    {
     "data": {
      "text/plain": [
       "b     7.00\n",
       "a    -5.00\n",
       "d    99.99\n",
       "dtype: float64"
      ]
     },
     "execution_count": 54,
     "metadata": {},
     "output_type": "execute_result"
    }
   ],
   "source": [
    "s['d':'e':2] # [start:stop:step] careful - not stop-before\n",
    "s[1:4]     # [start:stop-before:step] (using underlying ordinal members)"
   ]
  },
  {
   "cell_type": "code",
   "execution_count": 30,
   "id": "25d1653f",
   "metadata": {},
   "outputs": [
    {
     "data": {
      "text/plain": [
       "d    9.999500\n",
       "b    2.645751\n",
       "a         NaN\n",
       "c    1.732051\n",
       "e    0.001000\n",
       "dtype: float64"
      ]
     },
     "execution_count": 30,
     "metadata": {},
     "output_type": "execute_result"
    }
   ],
   "source": [
    "# we can use logic to get slices\n",
    "s[s>2]\n",
    "s[s<0]\n",
    "s**0.5 # NaN means Not a Number"
   ]
  },
  {
   "cell_type": "code",
   "execution_count": 34,
   "id": "9621ea20",
   "metadata": {},
   "outputs": [
    {
     "data": {
      "text/plain": [
       "d    99.990000\n",
       "b     7.000000\n",
       "a          NaN\n",
       "c     3.000000\n",
       "e     0.000001\n",
       "dtype: float64"
      ]
     },
     "execution_count": 34,
     "metadata": {},
     "output_type": "execute_result"
    }
   ],
   "source": [
    "s[2]=np.nan\n",
    "s"
   ]
  },
  {
   "cell_type": "code",
   "execution_count": 69,
   "id": "eda15b1b",
   "metadata": {},
   "outputs": [
    {
     "data": {
      "text/plain": [
       "Athlone     5000.0\n",
       "Cork       35000.0\n",
       "Galway     16000.0\n",
       "Dublin     71000.0\n",
       "Shannon        NaN\n",
       "dtype: float64"
      ]
     },
     "execution_count": 69,
     "metadata": {},
     "output_type": "execute_result"
    }
   ],
   "source": [
    "sdata = {'Cork':35000, 'Dublin':71000, 'Galway':16000, 'Athlone':5000}\n",
    "idata = {'Cork', 'Dublin', 'Shannon', 'Galway', 'Athlone'} # set, list, tuple all good\n",
    "p = pd.Series(sdata, index=idata)\n",
    "p # any missing index memvbers take NaN"
   ]
  },
  {
   "cell_type": "code",
   "execution_count": 73,
   "id": "0da3453d",
   "metadata": {},
   "outputs": [
    {
     "data": {
      "text/plain": [
       "Athlone     5000.0\n",
       "Cork       35000.0\n",
       "Galway     16000.0\n",
       "Dublin     71000.0\n",
       "Shannon    32345.0\n",
       "dtype: float64"
      ]
     },
     "execution_count": 73,
     "metadata": {},
     "output_type": "execute_result"
    }
   ],
   "source": [
    "p['Cork']\n",
    "p['Shannon']=32345\n",
    "p"
   ]
  },
  {
   "cell_type": "markdown",
   "id": "fe74ad30",
   "metadata": {},
   "source": [
    "### Pandas DataFrame"
   ]
  },
  {
   "cell_type": "code",
   "execution_count": null,
   "id": "95e16284",
   "metadata": {},
   "outputs": [],
   "source": [
    "# DataFrame is a collection of Series\n",
    "# Each column of a DataFrame is a Series\n",
    "# Each column can therefore only contain ONE data type\n",
    "# The DataFrame columns can be of dirrerent data types\n",
    "# A DataFrame looks soewhat like a spreadsheet\n"
   ]
  },
  {
   "cell_type": "code",
   "execution_count": 82,
   "id": "5b71eeab",
   "metadata": {},
   "outputs": [
    {
     "data": {
      "text/plain": [
       "{'Town': ['Cork',\n",
       "  'Dublin',\n",
       "  'Galway',\n",
       "  'Athlone',\n",
       "  'Shannon',\n",
       "  'Rosscarbery',\n",
       "  'Athenry'],\n",
       " 'Year': [2017, 2018, 2019, 2020, 2021, 2022, 2023],\n",
       " 'Pop': [1.5, 1.7, 3.6, 2.4, 2.9, 3.2, 1.7]}"
      ]
     },
     "execution_count": 82,
     "metadata": {},
     "output_type": "execute_result"
    }
   ],
   "source": [
    "towns_l = ['Cork', 'Dublin', 'Galway', 'Athlone', 'Shannon', 'Rosscarbery', 'Athenry']\n",
    "years_l = [2017, 2018, 2019, 2020, 2021, 2022, 2023]\n",
    "pop_l   = [1.5, 1.7, 3.6, 2.4, 2.9, 3.2, 1.7]\n",
    "data_d  = {'Town':towns_l, 'Year':years_l, 'Pop':pop_l}\n",
    "data_d"
   ]
  },
  {
   "cell_type": "code",
   "execution_count": 83,
   "id": "aedf9e51",
   "metadata": {},
   "outputs": [
    {
     "data": {
      "text/html": [
       "<div>\n",
       "<style scoped>\n",
       "    .dataframe tbody tr th:only-of-type {\n",
       "        vertical-align: middle;\n",
       "    }\n",
       "\n",
       "    .dataframe tbody tr th {\n",
       "        vertical-align: top;\n",
       "    }\n",
       "\n",
       "    .dataframe thead th {\n",
       "        text-align: right;\n",
       "    }\n",
       "</style>\n",
       "<table border=\"1\" class=\"dataframe\">\n",
       "  <thead>\n",
       "    <tr style=\"text-align: right;\">\n",
       "      <th></th>\n",
       "      <th>Town</th>\n",
       "      <th>Year</th>\n",
       "      <th>Pop</th>\n",
       "    </tr>\n",
       "  </thead>\n",
       "  <tbody>\n",
       "    <tr>\n",
       "      <th>Cork</th>\n",
       "      <td>Cork</td>\n",
       "      <td>2017</td>\n",
       "      <td>1.5</td>\n",
       "    </tr>\n",
       "    <tr>\n",
       "      <th>Dublin</th>\n",
       "      <td>Dublin</td>\n",
       "      <td>2018</td>\n",
       "      <td>1.7</td>\n",
       "    </tr>\n",
       "    <tr>\n",
       "      <th>Galway</th>\n",
       "      <td>Galway</td>\n",
       "      <td>2019</td>\n",
       "      <td>3.6</td>\n",
       "    </tr>\n",
       "    <tr>\n",
       "      <th>Athlone</th>\n",
       "      <td>Athlone</td>\n",
       "      <td>2020</td>\n",
       "      <td>2.4</td>\n",
       "    </tr>\n",
       "    <tr>\n",
       "      <th>Shannon</th>\n",
       "      <td>Shannon</td>\n",
       "      <td>2021</td>\n",
       "      <td>2.9</td>\n",
       "    </tr>\n",
       "    <tr>\n",
       "      <th>Rosscarbery</th>\n",
       "      <td>Rosscarbery</td>\n",
       "      <td>2022</td>\n",
       "      <td>3.2</td>\n",
       "    </tr>\n",
       "    <tr>\n",
       "      <th>Athenry</th>\n",
       "      <td>Athenry</td>\n",
       "      <td>2023</td>\n",
       "      <td>1.7</td>\n",
       "    </tr>\n",
       "  </tbody>\n",
       "</table>\n",
       "</div>"
      ],
      "text/plain": [
       "                    Town  Year  Pop\n",
       "Cork                Cork  2017  1.5\n",
       "Dublin            Dublin  2018  1.7\n",
       "Galway            Galway  2019  3.6\n",
       "Athlone          Athlone  2020  2.4\n",
       "Shannon          Shannon  2021  2.9\n",
       "Rosscarbery  Rosscarbery  2022  3.2\n",
       "Athenry          Athenry  2023  1.7"
      ]
     },
     "execution_count": 83,
     "metadata": {},
     "output_type": "execute_result"
    }
   ],
   "source": [
    "df = pd.DataFrame(data_d, index=towns_l) # index is optional\n",
    "df # we have a pretty DataFrame"
   ]
  },
  {
   "cell_type": "code",
   "execution_count": 87,
   "id": "4634f4f2",
   "metadata": {},
   "outputs": [
    {
     "data": {
      "text/html": [
       "<div>\n",
       "<style scoped>\n",
       "    .dataframe tbody tr th:only-of-type {\n",
       "        vertical-align: middle;\n",
       "    }\n",
       "\n",
       "    .dataframe tbody tr th {\n",
       "        vertical-align: top;\n",
       "    }\n",
       "\n",
       "    .dataframe thead th {\n",
       "        text-align: right;\n",
       "    }\n",
       "</style>\n",
       "<table border=\"1\" class=\"dataframe\">\n",
       "  <thead>\n",
       "    <tr style=\"text-align: right;\">\n",
       "      <th></th>\n",
       "      <th>Town</th>\n",
       "      <th>Year</th>\n",
       "      <th>Pop</th>\n",
       "    </tr>\n",
       "  </thead>\n",
       "  <tbody>\n",
       "    <tr>\n",
       "      <th>Rosscarbery</th>\n",
       "      <td>Rosscarbery</td>\n",
       "      <td>2022</td>\n",
       "      <td>3.2</td>\n",
       "    </tr>\n",
       "    <tr>\n",
       "      <th>Athenry</th>\n",
       "      <td>Athenry</td>\n",
       "      <td>2023</td>\n",
       "      <td>1.7</td>\n",
       "    </tr>\n",
       "  </tbody>\n",
       "</table>\n",
       "</div>"
      ],
      "text/plain": [
       "                    Town  Year  Pop\n",
       "Rosscarbery  Rosscarbery  2022  3.2\n",
       "Athenry          Athenry  2023  1.7"
      ]
     },
     "execution_count": 87,
     "metadata": {},
     "output_type": "execute_result"
    }
   ],
   "source": [
    "df.head(3) # just the first few\n",
    "df.tail(2) # just the last few"
   ]
  },
  {
   "cell_type": "code",
   "execution_count": 88,
   "id": "4fd5952b",
   "metadata": {},
   "outputs": [
    {
     "data": {
      "text/html": [
       "<div>\n",
       "<style scoped>\n",
       "    .dataframe tbody tr th:only-of-type {\n",
       "        vertical-align: middle;\n",
       "    }\n",
       "\n",
       "    .dataframe tbody tr th {\n",
       "        vertical-align: top;\n",
       "    }\n",
       "\n",
       "    .dataframe thead th {\n",
       "        text-align: right;\n",
       "    }\n",
       "</style>\n",
       "<table border=\"1\" class=\"dataframe\">\n",
       "  <thead>\n",
       "    <tr style=\"text-align: right;\">\n",
       "      <th></th>\n",
       "      <th>Town</th>\n",
       "      <th>Year</th>\n",
       "      <th>Pop</th>\n",
       "    </tr>\n",
       "  </thead>\n",
       "  <tbody>\n",
       "    <tr>\n",
       "      <th>one</th>\n",
       "      <td>Cork</td>\n",
       "      <td>2017</td>\n",
       "      <td>1.5</td>\n",
       "    </tr>\n",
       "    <tr>\n",
       "      <th>two</th>\n",
       "      <td>Dublin</td>\n",
       "      <td>2018</td>\n",
       "      <td>1.7</td>\n",
       "    </tr>\n",
       "    <tr>\n",
       "      <th>three</th>\n",
       "      <td>Galway</td>\n",
       "      <td>2019</td>\n",
       "      <td>3.6</td>\n",
       "    </tr>\n",
       "    <tr>\n",
       "      <th>four</th>\n",
       "      <td>Athlone</td>\n",
       "      <td>2020</td>\n",
       "      <td>2.4</td>\n",
       "    </tr>\n",
       "    <tr>\n",
       "      <th>five</th>\n",
       "      <td>Shannon</td>\n",
       "      <td>2021</td>\n",
       "      <td>2.9</td>\n",
       "    </tr>\n",
       "    <tr>\n",
       "      <th>six</th>\n",
       "      <td>Rosscarbery</td>\n",
       "      <td>2022</td>\n",
       "      <td>3.2</td>\n",
       "    </tr>\n",
       "    <tr>\n",
       "      <th>seven</th>\n",
       "      <td>Athenry</td>\n",
       "      <td>2023</td>\n",
       "      <td>1.7</td>\n",
       "    </tr>\n",
       "  </tbody>\n",
       "</table>\n",
       "</div>"
      ],
      "text/plain": [
       "              Town  Year  Pop\n",
       "one           Cork  2017  1.5\n",
       "two         Dublin  2018  1.7\n",
       "three       Galway  2019  3.6\n",
       "four       Athlone  2020  2.4\n",
       "five       Shannon  2021  2.9\n",
       "six    Rosscarbery  2022  3.2\n",
       "seven      Athenry  2023  1.7"
      ]
     },
     "execution_count": 88,
     "metadata": {},
     "output_type": "execute_result"
    }
   ],
   "source": [
    "# we can re-index a DataFrame\n",
    "index_l = ['one', 'two', 'three', 'four', 'five', 'six', 'seven']\n",
    "df.index=index_l\n",
    "df"
   ]
  },
  {
   "cell_type": "code",
   "execution_count": 93,
   "id": "85334be4",
   "metadata": {},
   "outputs": [
    {
     "data": {
      "text/html": [
       "<div>\n",
       "<style scoped>\n",
       "    .dataframe tbody tr th:only-of-type {\n",
       "        vertical-align: middle;\n",
       "    }\n",
       "\n",
       "    .dataframe tbody tr th {\n",
       "        vertical-align: top;\n",
       "    }\n",
       "\n",
       "    .dataframe thead th {\n",
       "        text-align: right;\n",
       "    }\n",
       "</style>\n",
       "<table border=\"1\" class=\"dataframe\">\n",
       "  <thead>\n",
       "    <tr style=\"text-align: right;\">\n",
       "      <th></th>\n",
       "      <th>Pop</th>\n",
       "      <th>Year</th>\n",
       "    </tr>\n",
       "  </thead>\n",
       "  <tbody>\n",
       "    <tr>\n",
       "      <th>one</th>\n",
       "      <td>1.5</td>\n",
       "      <td>2017</td>\n",
       "    </tr>\n",
       "    <tr>\n",
       "      <th>two</th>\n",
       "      <td>1.7</td>\n",
       "      <td>2018</td>\n",
       "    </tr>\n",
       "    <tr>\n",
       "      <th>three</th>\n",
       "      <td>3.6</td>\n",
       "      <td>2019</td>\n",
       "    </tr>\n",
       "    <tr>\n",
       "      <th>four</th>\n",
       "      <td>2.4</td>\n",
       "      <td>2020</td>\n",
       "    </tr>\n",
       "    <tr>\n",
       "      <th>five</th>\n",
       "      <td>2.9</td>\n",
       "      <td>2021</td>\n",
       "    </tr>\n",
       "    <tr>\n",
       "      <th>six</th>\n",
       "      <td>3.2</td>\n",
       "      <td>2022</td>\n",
       "    </tr>\n",
       "    <tr>\n",
       "      <th>seven</th>\n",
       "      <td>1.7</td>\n",
       "      <td>2023</td>\n",
       "    </tr>\n",
       "  </tbody>\n",
       "</table>\n",
       "</div>"
      ],
      "text/plain": [
       "       Pop  Year\n",
       "one    1.5  2017\n",
       "two    1.7  2018\n",
       "three  3.6  2019\n",
       "four   2.4  2020\n",
       "five   2.9  2021\n",
       "six    3.2  2022\n",
       "seven  1.7  2023"
      ]
     },
     "execution_count": 93,
     "metadata": {},
     "output_type": "execute_result"
    }
   ],
   "source": [
    "# alternatively we can make a DataFrame using just the data members we are interested in\n",
    "df2 = pd.DataFrame(data_d, columns=['Pop', 'Year'], index=index_l)\n",
    "df2"
   ]
  },
  {
   "cell_type": "markdown",
   "id": "f9396e17",
   "metadata": {},
   "source": [
    "### Accessing Data within DataFrames"
   ]
  },
  {
   "cell_type": "code",
   "execution_count": 100,
   "id": "5ea9fcb9",
   "metadata": {},
   "outputs": [
    {
     "data": {
      "text/plain": [
       "Pop        2.9\n",
       "Year    2021.0\n",
       "Name: Shannon, dtype: float64"
      ]
     },
     "execution_count": 100,
     "metadata": {},
     "output_type": "execute_result"
    }
   ],
   "source": [
    "df2.index = towns_l\n",
    "df2\n",
    "# we can use 'loc' to locate rows\n",
    "df2['Pop'] # gets the entire column\n",
    "df2.loc['Shannon'] # get that row"
   ]
  },
  {
   "cell_type": "code",
   "execution_count": 102,
   "id": "085b3a75",
   "metadata": {},
   "outputs": [
    {
     "data": {
      "text/plain": [
       "Pop        2.4\n",
       "Year    2020.0\n",
       "Name: Athlone, dtype: float64"
      ]
     },
     "execution_count": 102,
     "metadata": {},
     "output_type": "execute_result"
    }
   ],
   "source": [
    "# we use iloc to access rows by their ordinal underlying index position\n",
    "df2.iloc[3] # ordinal position 0, 1, 2, 3"
   ]
  },
  {
   "cell_type": "code",
   "execution_count": 111,
   "id": "3aa79a02",
   "metadata": {},
   "outputs": [
    {
     "data": {
      "text/plain": [
       "Town    Galway\n",
       "Year      2019\n",
       "Pop        3.6\n",
       "Name: 6, dtype: object"
      ]
     },
     "execution_count": 111,
     "metadata": {},
     "output_type": "execute_result"
    }
   ],
   "source": [
    "# we can use both loc and iloc on numbers\n",
    "num_l = [4,5,6,3,2,1,0]\n",
    "df3 = pd.DataFrame(data_d, index = num_l)\n",
    "df3\n",
    "# what is df.loc[2] and df.iloc[2]\n",
    "df3.loc[2] # the index member 2\n",
    "df3.iloc[2] # the ordinal member 3"
   ]
  },
  {
   "cell_type": "markdown",
   "id": "fb8dc416",
   "metadata": {},
   "source": [
    "#### Access and Mutate Members of a DataFrame"
   ]
  },
  {
   "cell_type": "code",
   "execution_count": 122,
   "id": "b640cb77",
   "metadata": {},
   "outputs": [
    {
     "data": {
      "text/html": [
       "<div>\n",
       "<style scoped>\n",
       "    .dataframe tbody tr th:only-of-type {\n",
       "        vertical-align: middle;\n",
       "    }\n",
       "\n",
       "    .dataframe tbody tr th {\n",
       "        vertical-align: top;\n",
       "    }\n",
       "\n",
       "    .dataframe thead th {\n",
       "        text-align: right;\n",
       "    }\n",
       "</style>\n",
       "<table border=\"1\" class=\"dataframe\">\n",
       "  <thead>\n",
       "    <tr style=\"text-align: right;\">\n",
       "      <th></th>\n",
       "      <th>Pop</th>\n",
       "      <th>Year</th>\n",
       "      <th>Tour</th>\n",
       "    </tr>\n",
       "  </thead>\n",
       "  <tbody>\n",
       "    <tr>\n",
       "      <th>Cork</th>\n",
       "      <td>1.5</td>\n",
       "      <td>2017</td>\n",
       "      <td>NaN</td>\n",
       "    </tr>\n",
       "    <tr>\n",
       "      <th>Dublin</th>\n",
       "      <td>1.7</td>\n",
       "      <td>2018</td>\n",
       "      <td>2.9</td>\n",
       "    </tr>\n",
       "    <tr>\n",
       "      <th>Galway</th>\n",
       "      <td>3.6</td>\n",
       "      <td>2019</td>\n",
       "      <td>3.2</td>\n",
       "    </tr>\n",
       "    <tr>\n",
       "      <th>Athlone</th>\n",
       "      <td>2.4</td>\n",
       "      <td>2020</td>\n",
       "      <td>NaN</td>\n",
       "    </tr>\n",
       "    <tr>\n",
       "      <th>Shannon</th>\n",
       "      <td>2.9</td>\n",
       "      <td>2021</td>\n",
       "      <td>5.3</td>\n",
       "    </tr>\n",
       "    <tr>\n",
       "      <th>Rosscarbery</th>\n",
       "      <td>3.2</td>\n",
       "      <td>2022</td>\n",
       "      <td>NaN</td>\n",
       "    </tr>\n",
       "    <tr>\n",
       "      <th>Athenry</th>\n",
       "      <td>1.7</td>\n",
       "      <td>2023</td>\n",
       "      <td>NaN</td>\n",
       "    </tr>\n",
       "  </tbody>\n",
       "</table>\n",
       "</div>"
      ],
      "text/plain": [
       "             Pop  Year  Tour\n",
       "Cork         1.5  2017   NaN\n",
       "Dublin       1.7  2018   2.9\n",
       "Galway       3.6  2019   3.2\n",
       "Athlone      2.4  2020   NaN\n",
       "Shannon      2.9  2021   5.3\n",
       "Rosscarbery  3.2  2022   NaN\n",
       "Athenry      1.7  2023   NaN"
      ]
     },
     "execution_count": 122,
     "metadata": {},
     "output_type": "execute_result"
    }
   ],
   "source": [
    "# we can mutate members of a DataFrame\n",
    "df2['Tour'] = np.arange(7)\n",
    "df2.loc['Galway']['Tour']+9 # this does not persist the value in the DataFrame\n",
    "# we can override values like this\n",
    "new_values = [3.2, 5.3, 2.9]\n",
    "df2['Tour'] = pd.Series(new_values, index=['Galway', 'Shannon', 'Dublin'])\n",
    "df2 # missing vaues take value NaN"
   ]
  },
  {
   "cell_type": "code",
   "execution_count": null,
   "id": "5c2c9e80",
   "metadata": {},
   "outputs": [],
   "source": []
  },
  {
   "cell_type": "code",
   "execution_count": null,
   "id": "f81bd1a6",
   "metadata": {},
   "outputs": [],
   "source": []
  },
  {
   "cell_type": "code",
   "execution_count": null,
   "id": "36e425c6",
   "metadata": {},
   "outputs": [],
   "source": []
  },
  {
   "cell_type": "code",
   "execution_count": null,
   "id": "93a88138",
   "metadata": {},
   "outputs": [],
   "source": []
  },
  {
   "cell_type": "code",
   "execution_count": null,
   "id": "d34292d6",
   "metadata": {},
   "outputs": [],
   "source": []
  }
 ],
 "metadata": {
  "kernelspec": {
   "display_name": "Python 3 (ipykernel)",
   "language": "python",
   "name": "python3"
  },
  "language_info": {
   "codemirror_mode": {
    "name": "ipython",
    "version": 3
   },
   "file_extension": ".py",
   "mimetype": "text/x-python",
   "name": "python",
   "nbconvert_exporter": "python",
   "pygments_lexer": "ipython3",
   "version": "3.9.12"
  }
 },
 "nbformat": 4,
 "nbformat_minor": 5
}
